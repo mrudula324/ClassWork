{
 "cells": [
  {
   "cell_type": "code",
   "execution_count": 1,
   "metadata": {},
   "outputs": [],
   "source": [
    "from splinter import Browser\n",
    "from webdriver_manager.chrome import ChromeDriverManager\n",
    "from bs4 import BeautifulSoup as bs\n",
    "import pandas as pd"
   ]
  },
  {
   "cell_type": "markdown",
   "metadata": {},
   "source": [
    "1. Use Splinter and/or Beautiful Soup to scrape https://www.dndbeyond.com/classes, and\n",
    "pull out all class names. Store these in a dataframe."
   ]
  },
  {
   "cell_type": "code",
   "execution_count": 7,
   "metadata": {},
   "outputs": [
    {
     "name": "stderr",
     "output_type": "stream",
     "text": [
      "\n",
      "\n",
      "====== WebDriver manager ======\n",
      "Current google-chrome version is 92.0.4515\n",
      "Get LATEST driver version for 92.0.4515\n",
      "Driver [/Users/shreekar/.wdm/drivers/chromedriver/mac64/92.0.4515.107/chromedriver] found in cache\n"
     ]
    }
   ],
   "source": [
    "executable_path = {'executable_path':ChromeDriverManager().install()}\n",
    "browser = Browser('chrome',**executable_path, headless=False)"
   ]
  },
  {
   "cell_type": "code",
   "execution_count": 8,
   "metadata": {},
   "outputs": [],
   "source": [
    "url=\"https://www.dndbeyond.com/classes\"\n",
    "browser.visit(url)\n",
    "soup_b= bs(browser.html,'html.parser')\n",
    "#soup_b"
   ]
  },
  {
   "cell_type": "code",
   "execution_count": 9,
   "metadata": {},
   "outputs": [],
   "source": [
    "book_classes= soup_b.find_all('span', class_='b-list-label')\n",
    "#book_classes"
   ]
  },
  {
   "cell_type": "code",
   "execution_count": 10,
   "metadata": {},
   "outputs": [
    {
     "name": "stdout",
     "output_type": "stream",
     "text": [
      "[{'class': 'Artificer'}, {'class': 'Barbarian'}, {'class': 'Bard'}, {'class': 'Cleric'}, {'class': 'Druid'}, {'class': 'Fighter'}, {'class': 'Monk'}, {'class': 'Paladin'}, {'class': 'Ranger'}, {'class': 'Rogue'}, {'class': 'Sorcerer'}, {'class': 'Warlock'}, {'class': 'Wizard'}, {'class': 'Blood Hunter'}]\n"
     ]
    }
   ],
   "source": [
    "class_mater=['Barbarian','Bard','Cleric','Druid','Fighter','Monk','Paladin','Ranger','Rogue','Sorcerer','Warlock','Wizard','Artificer','Blood Hunter']\n",
    "\n",
    "class_list=[]\n",
    "\n",
    "for cl in book_classes:\n",
    "    dndclass_dict = {\"class\":cl.text.strip(' ').strip('\\n').strip(' ').rstrip('\\n')}\n",
    "    if dndclass_dict.get('class') in class_mater:\n",
    "        class_list.append(dndclass_dict)\n",
    "print(class_list)  "
   ]
  },
  {
   "cell_type": "code",
   "execution_count": 11,
   "metadata": {},
   "outputs": [
    {
     "data": {
      "text/html": [
       "<div>\n",
       "<style scoped>\n",
       "    .dataframe tbody tr th:only-of-type {\n",
       "        vertical-align: middle;\n",
       "    }\n",
       "\n",
       "    .dataframe tbody tr th {\n",
       "        vertical-align: top;\n",
       "    }\n",
       "\n",
       "    .dataframe thead th {\n",
       "        text-align: right;\n",
       "    }\n",
       "</style>\n",
       "<table border=\"1\" class=\"dataframe\">\n",
       "  <thead>\n",
       "    <tr style=\"text-align: right;\">\n",
       "      <th></th>\n",
       "      <th>class</th>\n",
       "    </tr>\n",
       "  </thead>\n",
       "  <tbody>\n",
       "    <tr>\n",
       "      <th>0</th>\n",
       "      <td>Artificer</td>\n",
       "    </tr>\n",
       "    <tr>\n",
       "      <th>1</th>\n",
       "      <td>Barbarian</td>\n",
       "    </tr>\n",
       "    <tr>\n",
       "      <th>2</th>\n",
       "      <td>Bard</td>\n",
       "    </tr>\n",
       "    <tr>\n",
       "      <th>3</th>\n",
       "      <td>Cleric</td>\n",
       "    </tr>\n",
       "    <tr>\n",
       "      <th>4</th>\n",
       "      <td>Druid</td>\n",
       "    </tr>\n",
       "    <tr>\n",
       "      <th>5</th>\n",
       "      <td>Fighter</td>\n",
       "    </tr>\n",
       "    <tr>\n",
       "      <th>6</th>\n",
       "      <td>Monk</td>\n",
       "    </tr>\n",
       "    <tr>\n",
       "      <th>7</th>\n",
       "      <td>Paladin</td>\n",
       "    </tr>\n",
       "    <tr>\n",
       "      <th>8</th>\n",
       "      <td>Ranger</td>\n",
       "    </tr>\n",
       "    <tr>\n",
       "      <th>9</th>\n",
       "      <td>Rogue</td>\n",
       "    </tr>\n",
       "    <tr>\n",
       "      <th>10</th>\n",
       "      <td>Sorcerer</td>\n",
       "    </tr>\n",
       "    <tr>\n",
       "      <th>11</th>\n",
       "      <td>Warlock</td>\n",
       "    </tr>\n",
       "    <tr>\n",
       "      <th>12</th>\n",
       "      <td>Wizard</td>\n",
       "    </tr>\n",
       "    <tr>\n",
       "      <th>13</th>\n",
       "      <td>Blood Hunter</td>\n",
       "    </tr>\n",
       "  </tbody>\n",
       "</table>\n",
       "</div>"
      ],
      "text/plain": [
       "           class\n",
       "0      Artificer\n",
       "1      Barbarian\n",
       "2           Bard\n",
       "3         Cleric\n",
       "4          Druid\n",
       "5        Fighter\n",
       "6           Monk\n",
       "7        Paladin\n",
       "8         Ranger\n",
       "9          Rogue\n",
       "10      Sorcerer\n",
       "11       Warlock\n",
       "12        Wizard\n",
       "13  Blood Hunter"
      ]
     },
     "execution_count": 11,
     "metadata": {},
     "output_type": "execute_result"
    }
   ],
   "source": [
    "books_df =  pd.DataFrame(class_list)\n",
    "books_df"
   ]
  },
  {
   "cell_type": "markdown",
   "metadata": {},
   "source": [
    "2.Now, alter 1 to click on each class name to go to the more detailed page, and pull out\n",
    "the first paragraph about each class. Store these in a dataframe. Your dataframe should\n",
    "have two columns."
   ]
  },
  {
   "cell_type": "code",
   "execution_count": 12,
   "metadata": {},
   "outputs": [
    {
     "name": "stdout",
     "output_type": "stream",
     "text": [
      "[<h3 class=\"listing-card__title\">\n",
      "                        Barbarian\n",
      "                    </h3>, <h3 class=\"listing-card__title\">\n",
      "                        Bard\n",
      "                    </h3>, <h3 class=\"listing-card__title\">\n",
      "                        Cleric\n",
      "                    </h3>, <h3 class=\"listing-card__title\">\n",
      "                        Druid\n",
      "                    </h3>, <h3 class=\"listing-card__title\">\n",
      "                        Fighter\n",
      "                    </h3>, <h3 class=\"listing-card__title\">\n",
      "                        Monk\n",
      "                    </h3>, <h3 class=\"listing-card__title\">\n",
      "                        Paladin\n",
      "                    </h3>, <h3 class=\"listing-card__title\">\n",
      "                        Ranger\n",
      "                    </h3>, <h3 class=\"listing-card__title\">\n",
      "                        Rogue\n",
      "                    </h3>, <h3 class=\"listing-card__title\">\n",
      "                        Sorcerer\n",
      "                    </h3>, <h3 class=\"listing-card__title\">\n",
      "                        Warlock\n",
      "                    </h3>, <h3 class=\"listing-card__title\">\n",
      "                        Wizard\n",
      "                    </h3>, <h3 class=\"listing-card__title\">\n",
      "                        Artificer\n",
      "                    </h3>, <h3 class=\"listing-card__title\">\n",
      "                        Blood Hunter\n",
      "                    </h3>]\n"
     ]
    }
   ],
   "source": [
    "url=\"https://www.dndbeyond.com/classes\"\n",
    "browser.visit(url)\n",
    "soup = bs(browser.html, 'html.parser')\n",
    "all_classes = soup.find_all('h3', class_='listing-card__title')\n",
    "print(all_classes)"
   ]
  },
  {
   "cell_type": "code",
   "execution_count": 18,
   "metadata": {},
   "outputs": [],
   "source": [
    "book_para=[]"
   ]
  },
  {
   "cell_type": "code",
   "execution_count": 19,
   "metadata": {},
   "outputs": [
    {
     "name": "stdout",
     "output_type": "stream",
     "text": [
      "<p class=\"Core-Styles_Core-Body\">A tall human tribesman strides through a blizzard, draped in fur and hefting his axe. He laughs as he charges toward the frost giant who dared poach his people’s elk herd.</p>\n",
      "<p class=\"Core-Styles_Core-Body\">Humming as she traces her fingers over an ancient monument in a long-forgotten ruin, a half-elf in rugged leathers finds knowledge springing into her mind, conjured forth by the magic of her song—knowledge of the people who constructed the monument and the mythic saga it depicts.</p>\n",
      "<p class=\"Core-Styles_Core-Body\">Arms and eyes upraised toward the sun and a prayer on his lips, an elf begins to glow with an inner light that spills out to heal his battle-worn companions.</p>\n",
      "<p class=\"Core-Styles_Core-Body\">Holding high a gnarled staff wreathed with holly, an elf summons the fury of the storm and calls down explosive bolts of lightning to smite the torch-carrying orcs who threaten her forest.</p>\n",
      "<p class=\"Core-Styles_Core-Body\">A human in clanging plate armor holds her shield before her as she runs toward the massed goblins. An elf behind her, clad in studded leather armor, peppers the goblins with arrows loosed from his exquisite bow. The half-orc nearby shouts orders, helping the two combatants coordinate their assault to the best advantage.</p>\n",
      "<p class=\"Core-Styles_Core-Body\">Her fists a blur as they deflect an incoming hail of arrows, a half-elf springs over a barricade and throws herself into the massed ranks of hobgoblins on the other side. She whirls among them, knocking their blows aside and sending them reeling, until at last she stands alone.</p>\n",
      "<p class=\"Core-Styles_Core-Body\">Clad in plate armor that gleams in the sunlight despite the dust and grime of long travel, a human lays down her sword and shield and places her hands on a mortally wounded man. Divine radiance shines from her hands, the man’s wounds knit closed, and his eyes open wide with amazement.</p>\n",
      "<p class=\"Core-Styles_Core-Body\">Choose a type of favored enemy: aberrations, beasts, celestials, constructs, dragons, elementals, fey, fiends, giants, monstrosities, oozes, plants, or undead. Alternatively, you can select two races of humanoid (such as gnolls and orcs) as favored enemies.</p>\n",
      "<p class=\"Core-Styles_Core-Body\">Signaling for her companions to wait, a halfling creeps forward through the dungeon hall. She presses an ear to the door, then pulls out a set of tools and picks the lock in the blink of an eye. Then she disappears into the shadows as her fighter friend moves forward to kick the door open.</p>\n",
      "<p class=\"Core-Styles_Core-Body\">Golden eyes flashing, a human stretches out her hand and unleashes the dragonfire that burns in her veins. As an inferno rages around her foes, leathery wings spread from her back and she takes to the air.</p>\n",
      "<p class=\"Core-Styles_Core-Body\">With a pseudodragon curled on his shoulder, a young elf in golden robes smiles warmly, weaving a magical charm into his honeyed words and bending the palace sentinel to his will.</p>\n",
      "<p class=\"Core-Styles_Core-Body\">Clad in the silver robes that denote her station, an elf closes her eyes to shut out the distractions of the battlefield and begins her quiet chant. Fingers weaving in front of her, she completes her spell and launches a tiny bead of fire toward the enemy ranks, where it erupts into a conflagration that engulfs the soldiers.</p>\n"
     ]
    }
   ],
   "source": [
    "for title in all_classes:\n",
    "    title =title.text.strip(' ').strip('\\n').lstrip(' ')\n",
    "\n",
    "    if title!='Blood Hunter' and title!='Artificer' :\n",
    "        browser.visit(url+'/'+ title)\n",
    "        soup_page = bs(browser.html, 'html.parser')\n",
    "        para_f = soup_page.find('p',class_='Core-Styles_Core-Body')\n",
    "        #para_f = para_f.text\n",
    "        print(para_f)\n",
    "        book_para_d = {\"class\":title,\"Paragraph\": para_f.text}\n",
    "\n",
    "        book_para.append(book_para_d)"
   ]
  },
  {
   "cell_type": "code",
   "execution_count": 21,
   "metadata": {},
   "outputs": [],
   "source": [
    "browser.visit(\"https://www.dndbeyond.com/classes/blood-hunter\")\n",
    "soup_page = bs(browser.html, 'html.parser')\n",
    "para_f = soup_page.find('div',class_='content-container').find_all('p')\n",
    "book_para_d = {\"class\":'Blood Hunter',\"Paragraph\": para_f[3].text}\n",
    "book_para.append(book_para_d)"
   ]
  },
  {
   "cell_type": "code",
   "execution_count": 22,
   "metadata": {},
   "outputs": [],
   "source": [
    "browser.visit(\"https://www.dndbeyond.com/marketplace/sourcebooks/tashas-cauldron-of-everything\")\n",
    "soup_page = bs(browser.html, 'html.parser')\n",
    "para_f = soup_page.find('div',class_='marketplace-item__description j-description').find('p').text\n",
    "book_para_d = {\"class\":'Artificier',\"Paragraph\": para_f}\n",
    "book_para.append(book_para_d)"
   ]
  },
  {
   "cell_type": "code",
   "execution_count": 23,
   "metadata": {},
   "outputs": [
    {
     "data": {
      "text/html": [
       "<div>\n",
       "<style scoped>\n",
       "    .dataframe tbody tr th:only-of-type {\n",
       "        vertical-align: middle;\n",
       "    }\n",
       "\n",
       "    .dataframe tbody tr th {\n",
       "        vertical-align: top;\n",
       "    }\n",
       "\n",
       "    .dataframe thead th {\n",
       "        text-align: right;\n",
       "    }\n",
       "</style>\n",
       "<table border=\"1\" class=\"dataframe\">\n",
       "  <thead>\n",
       "    <tr style=\"text-align: right;\">\n",
       "      <th></th>\n",
       "      <th>class</th>\n",
       "      <th>Paragraph</th>\n",
       "    </tr>\n",
       "  </thead>\n",
       "  <tbody>\n",
       "    <tr>\n",
       "      <th>0</th>\n",
       "      <td>Barbarian</td>\n",
       "      <td>A tall human tribesman strides through a blizz...</td>\n",
       "    </tr>\n",
       "    <tr>\n",
       "      <th>1</th>\n",
       "      <td>Bard</td>\n",
       "      <td>Humming as she traces her fingers over an anci...</td>\n",
       "    </tr>\n",
       "    <tr>\n",
       "      <th>2</th>\n",
       "      <td>Cleric</td>\n",
       "      <td>Arms and eyes upraised toward the sun and a pr...</td>\n",
       "    </tr>\n",
       "    <tr>\n",
       "      <th>3</th>\n",
       "      <td>Druid</td>\n",
       "      <td>Holding high a gnarled staff wreathed with hol...</td>\n",
       "    </tr>\n",
       "    <tr>\n",
       "      <th>4</th>\n",
       "      <td>Fighter</td>\n",
       "      <td>A human in clanging plate armor holds her shie...</td>\n",
       "    </tr>\n",
       "    <tr>\n",
       "      <th>5</th>\n",
       "      <td>Monk</td>\n",
       "      <td>Her fists a blur as they deflect an incoming h...</td>\n",
       "    </tr>\n",
       "    <tr>\n",
       "      <th>6</th>\n",
       "      <td>Paladin</td>\n",
       "      <td>Clad in plate armor that gleams in the sunligh...</td>\n",
       "    </tr>\n",
       "    <tr>\n",
       "      <th>7</th>\n",
       "      <td>Ranger</td>\n",
       "      <td>Choose a type of favored enemy: aberrations, b...</td>\n",
       "    </tr>\n",
       "    <tr>\n",
       "      <th>8</th>\n",
       "      <td>Rogue</td>\n",
       "      <td>Signaling for her companions to wait, a halfli...</td>\n",
       "    </tr>\n",
       "    <tr>\n",
       "      <th>9</th>\n",
       "      <td>Sorcerer</td>\n",
       "      <td>Golden eyes flashing, a human stretches out he...</td>\n",
       "    </tr>\n",
       "    <tr>\n",
       "      <th>10</th>\n",
       "      <td>Warlock</td>\n",
       "      <td>With a pseudodragon curled on his shoulder, a ...</td>\n",
       "    </tr>\n",
       "    <tr>\n",
       "      <th>11</th>\n",
       "      <td>Wizard</td>\n",
       "      <td>Clad in the silver robes that denote her stati...</td>\n",
       "    </tr>\n",
       "    <tr>\n",
       "      <th>12</th>\n",
       "      <td>Blood Hunter</td>\n",
       "      <td>Marred but resolute, his grimacing face drippi...</td>\n",
       "    </tr>\n",
       "    <tr>\n",
       "      <th>13</th>\n",
       "      <td>Artificier</td>\n",
       "      <td>With a Master Tier subscription, save your par...</td>\n",
       "    </tr>\n",
       "  </tbody>\n",
       "</table>\n",
       "</div>"
      ],
      "text/plain": [
       "           class                                          Paragraph\n",
       "0      Barbarian  A tall human tribesman strides through a blizz...\n",
       "1           Bard  Humming as she traces her fingers over an anci...\n",
       "2         Cleric  Arms and eyes upraised toward the sun and a pr...\n",
       "3          Druid  Holding high a gnarled staff wreathed with hol...\n",
       "4        Fighter  A human in clanging plate armor holds her shie...\n",
       "5           Monk  Her fists a blur as they deflect an incoming h...\n",
       "6        Paladin  Clad in plate armor that gleams in the sunligh...\n",
       "7         Ranger  Choose a type of favored enemy: aberrations, b...\n",
       "8          Rogue  Signaling for her companions to wait, a halfli...\n",
       "9       Sorcerer  Golden eyes flashing, a human stretches out he...\n",
       "10       Warlock  With a pseudodragon curled on his shoulder, a ...\n",
       "11        Wizard  Clad in the silver robes that denote her stati...\n",
       "12  Blood Hunter  Marred but resolute, his grimacing face drippi...\n",
       "13    Artificier  With a Master Tier subscription, save your par..."
      ]
     },
     "execution_count": 23,
     "metadata": {},
     "output_type": "execute_result"
    }
   ],
   "source": [
    "df_para_first=pd.DataFrame(book_para)\n",
    "df_para_first"
   ]
  },
  {
   "cell_type": "code",
   "execution_count": null,
   "metadata": {},
   "outputs": [],
   "source": []
  },
  {
   "cell_type": "code",
   "execution_count": null,
   "metadata": {},
   "outputs": [],
   "source": []
  }
 ],
 "metadata": {
  "kernelspec": {
   "display_name": "Python 3",
   "language": "python",
   "name": "python3"
  },
  "language_info": {
   "codemirror_mode": {
    "name": "ipython",
    "version": 3
   },
   "file_extension": ".py",
   "mimetype": "text/x-python",
   "name": "python",
   "nbconvert_exporter": "python",
   "pygments_lexer": "ipython3",
   "version": "3.8.5"
  }
 },
 "nbformat": 4,
 "nbformat_minor": 4
}
