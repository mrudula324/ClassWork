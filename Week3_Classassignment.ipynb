{
 "cells": [
  {
   "cell_type": "code",
   "execution_count": null,
   "metadata": {
    "collapsed": true
   },
   "outputs": [],
   "source": [
    "Create a function that accepts two values, a and b. Add code to print three lines where:\n",
    "The first line contains the sum of the two numbers.\n",
    "The second line contains the difference of the two numbers (first - second).\n",
    "The third line contains the product of the two numbers.\n",
    "\n",
    "Conditions:\n",
    "If any of the results are zero, print “zero” as the result instead of 0 \n",
    "\n",
    "Note: be sure to include useful info printed out, not just the result\n",
    "\n",
    "Example 0\n",
    "a=3\n",
    "b=5\n",
    "\n",
    "Print the following:\n",
    "A + b = 8\n",
    "A - b = -2\n",
    "A * b = 15\n",
    "\n",
    "Example 1\n",
    "a=3\n",
    "b=3\n",
    "\n",
    "Print the following:\n",
    "A + b = 6\n",
    "A - b = zero\n",
    "A * b = 9"
   ]
  },
  {
   "cell_type": "code",
   "execution_count": null,
   "metadata": {
    "collapsed": true
   },
   "outputs": [],
   "source": [
    "def three(a,b):\n",
    "        \n",
    "    sumnum = a + b\n",
    "\n",
    "    diff = a - b\n",
    "\n",
    "    prod = a * b\n",
    "\n",
    "    if sumnum == 0:\n",
    "        print(\"a+b=zero\")\n",
    "    else:\n",
    "        print(\"a+b=\", sumnum)\n",
    "    \n",
    "    if diff == 0:\n",
    "        print(\"a-b=zero\")\n",
    "    else:\n",
    "        print(\"a-b=\", diff)\n",
    "    \n",
    "    if prod == 0:\n",
    "        print(\"a*b=zero\")\n",
    "    else:\n",
    "        print(\"a*b=\", prod)"
   ]
  },
  {
   "cell_type": "code",
   "execution_count": 4,
   "metadata": {
    "collapsed": false
   },
   "outputs": [
    {
     "name": "stdout",
     "output_type": "stream",
     "text": [
      "a+b= 8\n",
      "a-b= -2\n",
      "a*b= 15\n"
     ]
    }
   ],
   "source": [
    "three(3,5)"
   ]
  },
  {
   "cell_type": "code",
   "execution_count": 5,
   "metadata": {
    "collapsed": false
   },
   "outputs": [
    {
     "name": "stdout",
     "output_type": "stream",
     "text": [
      "a+b= 6\n",
      "a-b=zero\n",
      "a*b= 9\n"
     ]
    }
   ],
   "source": [
    "three(3,3)"
   ]
  },
  {
   "cell_type": "code",
   "execution_count": null,
   "metadata": {
    "collapsed": true
   },
   "outputs": [],
   "source": []
  }
 ],
 "metadata": {
  "anaconda-cloud": {},
  "kernelspec": {
   "display_name": "Python [default]",
   "language": "python",
   "name": "python3"
  },
  "language_info": {
   "codemirror_mode": {
    "name": "ipython",
    "version": 3
   },
   "file_extension": ".py",
   "mimetype": "text/x-python",
   "name": "python",
   "nbconvert_exporter": "python",
   "pygments_lexer": "ipython3",
   "version": "3.5.2"
  }
 },
 "nbformat": 4,
 "nbformat_minor": 2
}
