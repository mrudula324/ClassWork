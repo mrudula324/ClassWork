{
  "nbformat": 4,
  "nbformat_minor": 0,
  "metadata": {
    "colab": {
      "name": "Week19_GA.ipynb",
      "provenance": [],
      "collapsed_sections": []
    },
    "kernelspec": {
      "name": "python3",
      "display_name": "Python 3"
    },
    "language_info": {
      "name": "python"
    }
  },
  "cells": [
    {
      "cell_type": "code",
      "metadata": {
        "colab": {
          "base_uri": "https://localhost:8080/"
        },
        "id": "lsbgHcu-rd5o",
        "outputId": "2cb86bd8-ee25-4820-8f25-ca7d0102826d"
      },
      "source": [
        "from google.colab import drive\n",
        "drive.mount('/content/drive')"
      ],
      "execution_count": 4,
      "outputs": [
        {
          "output_type": "stream",
          "text": [
            "Drive already mounted at /content/drive; to attempt to forcibly remount, call drive.mount(\"/content/drive\", force_remount=True).\n"
          ],
          "name": "stdout"
        }
      ]
    },
    {
      "cell_type": "code",
      "metadata": {
        "id": "7l6jbLyZ29-g"
      },
      "source": [
        "import numpy as np\n",
        "import pandas as pd\n",
        "from sklearn.model_selection import train_test_split\n",
        "from sklearn.preprocessing import StandardScaler, OneHotEncoder"
      ],
      "execution_count": 2,
      "outputs": []
    },
    {
      "cell_type": "code",
      "metadata": {
        "id": "NWvVnH3X58Sz"
      },
      "source": [
        "from sklearn.preprocessing import LabelEncoder\n",
        "import seaborn as sns\n",
        "import matplotlib.pyplot as plt\n",
        "from sklearn.metrics import confusion_matrix,accuracy_score,classification_report\n",
        "from sklearn.model_selection import cross_val_score\n",
        "from sklearn.model_selection import RepeatedStratifiedKFold"
      ],
      "execution_count": 49,
      "outputs": []
    },
    {
      "cell_type": "markdown",
      "metadata": {
        "id": "xwwE2rI2Yvm4"
      },
      "source": [
        "### Preprocessing for Abalone:"
      ]
    },
    {
      "cell_type": "code",
      "metadata": {
        "colab": {
          "base_uri": "https://localhost:8080/",
          "height": 419
        },
        "id": "hC_no7mu3Bw9",
        "outputId": "eb09607e-28f2-4885-ef8a-374d897045d7"
      },
      "source": [
        "abalone_df = pd.read_table(\"/content/drive/My Drive/Abalone/abalone.data\", sep=\",\",header=None)\n",
        "abalone_df.columns=['sex','length','diameter','height','whole_wt','shucked_wt','viscera_wt','shell_wt','rings']\n",
        "abalone_df"
      ],
      "execution_count": 12,
      "outputs": [
        {
          "output_type": "execute_result",
          "data": {
            "text/html": [
              "<div>\n",
              "<style scoped>\n",
              "    .dataframe tbody tr th:only-of-type {\n",
              "        vertical-align: middle;\n",
              "    }\n",
              "\n",
              "    .dataframe tbody tr th {\n",
              "        vertical-align: top;\n",
              "    }\n",
              "\n",
              "    .dataframe thead th {\n",
              "        text-align: right;\n",
              "    }\n",
              "</style>\n",
              "<table border=\"1\" class=\"dataframe\">\n",
              "  <thead>\n",
              "    <tr style=\"text-align: right;\">\n",
              "      <th></th>\n",
              "      <th>sex</th>\n",
              "      <th>length</th>\n",
              "      <th>diameter</th>\n",
              "      <th>height</th>\n",
              "      <th>whole_wt</th>\n",
              "      <th>shucked_wt</th>\n",
              "      <th>viscera_wt</th>\n",
              "      <th>shell_wt</th>\n",
              "      <th>rings</th>\n",
              "    </tr>\n",
              "  </thead>\n",
              "  <tbody>\n",
              "    <tr>\n",
              "      <th>0</th>\n",
              "      <td>M</td>\n",
              "      <td>0.455</td>\n",
              "      <td>0.365</td>\n",
              "      <td>0.095</td>\n",
              "      <td>0.5140</td>\n",
              "      <td>0.2245</td>\n",
              "      <td>0.1010</td>\n",
              "      <td>0.1500</td>\n",
              "      <td>15</td>\n",
              "    </tr>\n",
              "    <tr>\n",
              "      <th>1</th>\n",
              "      <td>M</td>\n",
              "      <td>0.350</td>\n",
              "      <td>0.265</td>\n",
              "      <td>0.090</td>\n",
              "      <td>0.2255</td>\n",
              "      <td>0.0995</td>\n",
              "      <td>0.0485</td>\n",
              "      <td>0.0700</td>\n",
              "      <td>7</td>\n",
              "    </tr>\n",
              "    <tr>\n",
              "      <th>2</th>\n",
              "      <td>F</td>\n",
              "      <td>0.530</td>\n",
              "      <td>0.420</td>\n",
              "      <td>0.135</td>\n",
              "      <td>0.6770</td>\n",
              "      <td>0.2565</td>\n",
              "      <td>0.1415</td>\n",
              "      <td>0.2100</td>\n",
              "      <td>9</td>\n",
              "    </tr>\n",
              "    <tr>\n",
              "      <th>3</th>\n",
              "      <td>M</td>\n",
              "      <td>0.440</td>\n",
              "      <td>0.365</td>\n",
              "      <td>0.125</td>\n",
              "      <td>0.5160</td>\n",
              "      <td>0.2155</td>\n",
              "      <td>0.1140</td>\n",
              "      <td>0.1550</td>\n",
              "      <td>10</td>\n",
              "    </tr>\n",
              "    <tr>\n",
              "      <th>4</th>\n",
              "      <td>I</td>\n",
              "      <td>0.330</td>\n",
              "      <td>0.255</td>\n",
              "      <td>0.080</td>\n",
              "      <td>0.2050</td>\n",
              "      <td>0.0895</td>\n",
              "      <td>0.0395</td>\n",
              "      <td>0.0550</td>\n",
              "      <td>7</td>\n",
              "    </tr>\n",
              "    <tr>\n",
              "      <th>...</th>\n",
              "      <td>...</td>\n",
              "      <td>...</td>\n",
              "      <td>...</td>\n",
              "      <td>...</td>\n",
              "      <td>...</td>\n",
              "      <td>...</td>\n",
              "      <td>...</td>\n",
              "      <td>...</td>\n",
              "      <td>...</td>\n",
              "    </tr>\n",
              "    <tr>\n",
              "      <th>4172</th>\n",
              "      <td>F</td>\n",
              "      <td>0.565</td>\n",
              "      <td>0.450</td>\n",
              "      <td>0.165</td>\n",
              "      <td>0.8870</td>\n",
              "      <td>0.3700</td>\n",
              "      <td>0.2390</td>\n",
              "      <td>0.2490</td>\n",
              "      <td>11</td>\n",
              "    </tr>\n",
              "    <tr>\n",
              "      <th>4173</th>\n",
              "      <td>M</td>\n",
              "      <td>0.590</td>\n",
              "      <td>0.440</td>\n",
              "      <td>0.135</td>\n",
              "      <td>0.9660</td>\n",
              "      <td>0.4390</td>\n",
              "      <td>0.2145</td>\n",
              "      <td>0.2605</td>\n",
              "      <td>10</td>\n",
              "    </tr>\n",
              "    <tr>\n",
              "      <th>4174</th>\n",
              "      <td>M</td>\n",
              "      <td>0.600</td>\n",
              "      <td>0.475</td>\n",
              "      <td>0.205</td>\n",
              "      <td>1.1760</td>\n",
              "      <td>0.5255</td>\n",
              "      <td>0.2875</td>\n",
              "      <td>0.3080</td>\n",
              "      <td>9</td>\n",
              "    </tr>\n",
              "    <tr>\n",
              "      <th>4175</th>\n",
              "      <td>F</td>\n",
              "      <td>0.625</td>\n",
              "      <td>0.485</td>\n",
              "      <td>0.150</td>\n",
              "      <td>1.0945</td>\n",
              "      <td>0.5310</td>\n",
              "      <td>0.2610</td>\n",
              "      <td>0.2960</td>\n",
              "      <td>10</td>\n",
              "    </tr>\n",
              "    <tr>\n",
              "      <th>4176</th>\n",
              "      <td>M</td>\n",
              "      <td>0.710</td>\n",
              "      <td>0.555</td>\n",
              "      <td>0.195</td>\n",
              "      <td>1.9485</td>\n",
              "      <td>0.9455</td>\n",
              "      <td>0.3765</td>\n",
              "      <td>0.4950</td>\n",
              "      <td>12</td>\n",
              "    </tr>\n",
              "  </tbody>\n",
              "</table>\n",
              "<p>4177 rows × 9 columns</p>\n",
              "</div>"
            ],
            "text/plain": [
              "     sex  length  diameter  height  ...  shucked_wt  viscera_wt  shell_wt  rings\n",
              "0      M   0.455     0.365   0.095  ...      0.2245      0.1010    0.1500     15\n",
              "1      M   0.350     0.265   0.090  ...      0.0995      0.0485    0.0700      7\n",
              "2      F   0.530     0.420   0.135  ...      0.2565      0.1415    0.2100      9\n",
              "3      M   0.440     0.365   0.125  ...      0.2155      0.1140    0.1550     10\n",
              "4      I   0.330     0.255   0.080  ...      0.0895      0.0395    0.0550      7\n",
              "...   ..     ...       ...     ...  ...         ...         ...       ...    ...\n",
              "4172   F   0.565     0.450   0.165  ...      0.3700      0.2390    0.2490     11\n",
              "4173   M   0.590     0.440   0.135  ...      0.4390      0.2145    0.2605     10\n",
              "4174   M   0.600     0.475   0.205  ...      0.5255      0.2875    0.3080      9\n",
              "4175   F   0.625     0.485   0.150  ...      0.5310      0.2610    0.2960     10\n",
              "4176   M   0.710     0.555   0.195  ...      0.9455      0.3765    0.4950     12\n",
              "\n",
              "[4177 rows x 9 columns]"
            ]
          },
          "metadata": {
            "tags": []
          },
          "execution_count": 12
        }
      ]
    },
    {
      "cell_type": "code",
      "metadata": {
        "id": "5j2l3FLvCB0O"
      },
      "source": [
        "# Converting categorical variable to numerical:\n",
        "\n",
        "le=LabelEncoder()\n",
        "\n",
        "abalone_df['sex_c']=le.fit_transform(abalone_df['sex'])\n",
        "abalone_df\n",
        "\n",
        "# Drop sex variable after encoding:\n",
        "abalone_df.drop('sex',axis=1,inplace=True)"
      ],
      "execution_count": 13,
      "outputs": []
    },
    {
      "cell_type": "code",
      "metadata": {
        "colab": {
          "base_uri": "https://localhost:8080/",
          "height": 419
        },
        "id": "67SmebaQ84dK",
        "outputId": "d3a69177-87ce-4c1a-c45b-f2cf99412507"
      },
      "source": [
        "# Some outliers has been identified hence removing outliers using zscore greater than 3.\n",
        "\n",
        "from scipy import stats\n",
        "z = np.abs(stats.zscore(abalone_df))  \n",
        "threshold = 3\n",
        "aba_df = abalone_df[(z < 3).all(axis=1)]    \n",
        "aba_df"
      ],
      "execution_count": 14,
      "outputs": [
        {
          "output_type": "execute_result",
          "data": {
            "text/html": [
              "<div>\n",
              "<style scoped>\n",
              "    .dataframe tbody tr th:only-of-type {\n",
              "        vertical-align: middle;\n",
              "    }\n",
              "\n",
              "    .dataframe tbody tr th {\n",
              "        vertical-align: top;\n",
              "    }\n",
              "\n",
              "    .dataframe thead th {\n",
              "        text-align: right;\n",
              "    }\n",
              "</style>\n",
              "<table border=\"1\" class=\"dataframe\">\n",
              "  <thead>\n",
              "    <tr style=\"text-align: right;\">\n",
              "      <th></th>\n",
              "      <th>length</th>\n",
              "      <th>diameter</th>\n",
              "      <th>height</th>\n",
              "      <th>whole_wt</th>\n",
              "      <th>shucked_wt</th>\n",
              "      <th>viscera_wt</th>\n",
              "      <th>shell_wt</th>\n",
              "      <th>rings</th>\n",
              "      <th>sex_c</th>\n",
              "    </tr>\n",
              "  </thead>\n",
              "  <tbody>\n",
              "    <tr>\n",
              "      <th>0</th>\n",
              "      <td>0.455</td>\n",
              "      <td>0.365</td>\n",
              "      <td>0.095</td>\n",
              "      <td>0.5140</td>\n",
              "      <td>0.2245</td>\n",
              "      <td>0.1010</td>\n",
              "      <td>0.1500</td>\n",
              "      <td>15</td>\n",
              "      <td>2</td>\n",
              "    </tr>\n",
              "    <tr>\n",
              "      <th>1</th>\n",
              "      <td>0.350</td>\n",
              "      <td>0.265</td>\n",
              "      <td>0.090</td>\n",
              "      <td>0.2255</td>\n",
              "      <td>0.0995</td>\n",
              "      <td>0.0485</td>\n",
              "      <td>0.0700</td>\n",
              "      <td>7</td>\n",
              "      <td>2</td>\n",
              "    </tr>\n",
              "    <tr>\n",
              "      <th>2</th>\n",
              "      <td>0.530</td>\n",
              "      <td>0.420</td>\n",
              "      <td>0.135</td>\n",
              "      <td>0.6770</td>\n",
              "      <td>0.2565</td>\n",
              "      <td>0.1415</td>\n",
              "      <td>0.2100</td>\n",
              "      <td>9</td>\n",
              "      <td>0</td>\n",
              "    </tr>\n",
              "    <tr>\n",
              "      <th>3</th>\n",
              "      <td>0.440</td>\n",
              "      <td>0.365</td>\n",
              "      <td>0.125</td>\n",
              "      <td>0.5160</td>\n",
              "      <td>0.2155</td>\n",
              "      <td>0.1140</td>\n",
              "      <td>0.1550</td>\n",
              "      <td>10</td>\n",
              "      <td>2</td>\n",
              "    </tr>\n",
              "    <tr>\n",
              "      <th>4</th>\n",
              "      <td>0.330</td>\n",
              "      <td>0.255</td>\n",
              "      <td>0.080</td>\n",
              "      <td>0.2050</td>\n",
              "      <td>0.0895</td>\n",
              "      <td>0.0395</td>\n",
              "      <td>0.0550</td>\n",
              "      <td>7</td>\n",
              "      <td>1</td>\n",
              "    </tr>\n",
              "    <tr>\n",
              "      <th>...</th>\n",
              "      <td>...</td>\n",
              "      <td>...</td>\n",
              "      <td>...</td>\n",
              "      <td>...</td>\n",
              "      <td>...</td>\n",
              "      <td>...</td>\n",
              "      <td>...</td>\n",
              "      <td>...</td>\n",
              "      <td>...</td>\n",
              "    </tr>\n",
              "    <tr>\n",
              "      <th>4172</th>\n",
              "      <td>0.565</td>\n",
              "      <td>0.450</td>\n",
              "      <td>0.165</td>\n",
              "      <td>0.8870</td>\n",
              "      <td>0.3700</td>\n",
              "      <td>0.2390</td>\n",
              "      <td>0.2490</td>\n",
              "      <td>11</td>\n",
              "      <td>0</td>\n",
              "    </tr>\n",
              "    <tr>\n",
              "      <th>4173</th>\n",
              "      <td>0.590</td>\n",
              "      <td>0.440</td>\n",
              "      <td>0.135</td>\n",
              "      <td>0.9660</td>\n",
              "      <td>0.4390</td>\n",
              "      <td>0.2145</td>\n",
              "      <td>0.2605</td>\n",
              "      <td>10</td>\n",
              "      <td>2</td>\n",
              "    </tr>\n",
              "    <tr>\n",
              "      <th>4174</th>\n",
              "      <td>0.600</td>\n",
              "      <td>0.475</td>\n",
              "      <td>0.205</td>\n",
              "      <td>1.1760</td>\n",
              "      <td>0.5255</td>\n",
              "      <td>0.2875</td>\n",
              "      <td>0.3080</td>\n",
              "      <td>9</td>\n",
              "      <td>2</td>\n",
              "    </tr>\n",
              "    <tr>\n",
              "      <th>4175</th>\n",
              "      <td>0.625</td>\n",
              "      <td>0.485</td>\n",
              "      <td>0.150</td>\n",
              "      <td>1.0945</td>\n",
              "      <td>0.5310</td>\n",
              "      <td>0.2610</td>\n",
              "      <td>0.2960</td>\n",
              "      <td>10</td>\n",
              "      <td>0</td>\n",
              "    </tr>\n",
              "    <tr>\n",
              "      <th>4176</th>\n",
              "      <td>0.710</td>\n",
              "      <td>0.555</td>\n",
              "      <td>0.195</td>\n",
              "      <td>1.9485</td>\n",
              "      <td>0.9455</td>\n",
              "      <td>0.3765</td>\n",
              "      <td>0.4950</td>\n",
              "      <td>12</td>\n",
              "      <td>2</td>\n",
              "    </tr>\n",
              "  </tbody>\n",
              "</table>\n",
              "<p>4027 rows × 9 columns</p>\n",
              "</div>"
            ],
            "text/plain": [
              "      length  diameter  height  whole_wt  ...  viscera_wt  shell_wt  rings  sex_c\n",
              "0      0.455     0.365   0.095    0.5140  ...      0.1010    0.1500     15      2\n",
              "1      0.350     0.265   0.090    0.2255  ...      0.0485    0.0700      7      2\n",
              "2      0.530     0.420   0.135    0.6770  ...      0.1415    0.2100      9      0\n",
              "3      0.440     0.365   0.125    0.5160  ...      0.1140    0.1550     10      2\n",
              "4      0.330     0.255   0.080    0.2050  ...      0.0395    0.0550      7      1\n",
              "...      ...       ...     ...       ...  ...         ...       ...    ...    ...\n",
              "4172   0.565     0.450   0.165    0.8870  ...      0.2390    0.2490     11      0\n",
              "4173   0.590     0.440   0.135    0.9660  ...      0.2145    0.2605     10      2\n",
              "4174   0.600     0.475   0.205    1.1760  ...      0.2875    0.3080      9      2\n",
              "4175   0.625     0.485   0.150    1.0945  ...      0.2610    0.2960     10      0\n",
              "4176   0.710     0.555   0.195    1.9485  ...      0.3765    0.4950     12      2\n",
              "\n",
              "[4027 rows x 9 columns]"
            ]
          },
          "metadata": {
            "tags": []
          },
          "execution_count": 14
        }
      ]
    },
    {
      "cell_type": "code",
      "metadata": {
        "id": "J4WKqw2dfZqm"
      },
      "source": [
        "import sys\n",
        "import warnings\n",
        "\n",
        "if not sys.warnoptions:\n",
        "    warnings.simplefilter(\"ignore\")"
      ],
      "execution_count": 15,
      "outputs": []
    },
    {
      "cell_type": "code",
      "metadata": {
        "colab": {
          "base_uri": "https://localhost:8080/"
        },
        "id": "dIODTznRV_DT",
        "outputId": "7c6ffb45-ef7a-491f-cf13-cb0fd45edee1"
      },
      "source": [
        "ab_list=aba_df.index\n",
        "aba_df['bin_rings']=''\n",
        "\n",
        "for i in ab_list:\n",
        "  if aba_df['rings'][i] <= 8:\n",
        "    aba_df['bin_rings'].loc[i]= 0 \n",
        "  elif 8 < aba_df['rings'][i] <=15:\n",
        "    aba_df['bin_rings'].loc[i] =1\n",
        "  else:\n",
        "    aba_df['bin_rings'].loc[i] =2\n",
        "\n",
        "aba_df['bin_rings']=aba_df['bin_rings'].astype(int)"
      ],
      "execution_count": 16,
      "outputs": [
        {
          "output_type": "stream",
          "text": [
            "/usr/local/lib/python3.7/dist-packages/ipykernel_launcher.py:2: SettingWithCopyWarning: \n",
            "A value is trying to be set on a copy of a slice from a DataFrame.\n",
            "Try using .loc[row_indexer,col_indexer] = value instead\n",
            "\n",
            "See the caveats in the documentation: https://pandas.pydata.org/pandas-docs/stable/user_guide/indexing.html#returning-a-view-versus-a-copy\n",
            "  \n",
            "/usr/local/lib/python3.7/dist-packages/pandas/core/indexing.py:670: SettingWithCopyWarning: \n",
            "A value is trying to be set on a copy of a slice from a DataFrame\n",
            "\n",
            "See the caveats in the documentation: https://pandas.pydata.org/pandas-docs/stable/user_guide/indexing.html#returning-a-view-versus-a-copy\n",
            "  iloc._setitem_with_indexer(indexer, value)\n",
            "/usr/local/lib/python3.7/dist-packages/ipykernel_launcher.py:8: SettingWithCopyWarning: \n",
            "A value is trying to be set on a copy of a slice from a DataFrame\n",
            "\n",
            "See the caveats in the documentation: https://pandas.pydata.org/pandas-docs/stable/user_guide/indexing.html#returning-a-view-versus-a-copy\n",
            "  \n",
            "/usr/local/lib/python3.7/dist-packages/ipykernel_launcher.py:6: SettingWithCopyWarning: \n",
            "A value is trying to be set on a copy of a slice from a DataFrame\n",
            "\n",
            "See the caveats in the documentation: https://pandas.pydata.org/pandas-docs/stable/user_guide/indexing.html#returning-a-view-versus-a-copy\n",
            "  \n",
            "/usr/local/lib/python3.7/dist-packages/ipykernel_launcher.py:10: SettingWithCopyWarning: \n",
            "A value is trying to be set on a copy of a slice from a DataFrame\n",
            "\n",
            "See the caveats in the documentation: https://pandas.pydata.org/pandas-docs/stable/user_guide/indexing.html#returning-a-view-versus-a-copy\n",
            "  # Remove the CWD from sys.path while we load stuff.\n",
            "/usr/local/lib/python3.7/dist-packages/ipykernel_launcher.py:12: SettingWithCopyWarning: \n",
            "A value is trying to be set on a copy of a slice from a DataFrame.\n",
            "Try using .loc[row_indexer,col_indexer] = value instead\n",
            "\n",
            "See the caveats in the documentation: https://pandas.pydata.org/pandas-docs/stable/user_guide/indexing.html#returning-a-view-versus-a-copy\n",
            "  if sys.path[0] == '':\n"
          ],
          "name": "stderr"
        }
      ]
    },
    {
      "cell_type": "markdown",
      "metadata": {
        "id": "hSJrfcPhEuzL"
      },
      "source": [
        "1.Take one of the supervised learning models you have built recently and apply at least\n",
        "three dimensionality reduction techniques to it (separately). Be sure to create a short\n",
        "summary of each technique you use. Indicate how each changed the model\n",
        "performance. Reference:\n",
        "https://machinelearningmastery.com/dimensionality-reduction-algorithms-with-python/\n"
      ]
    },
    {
      "cell_type": "markdown",
      "metadata": {
        "id": "WFyBZMjtFhm7"
      },
      "source": [
        "With out Dimentionality reduction:"
      ]
    },
    {
      "cell_type": "code",
      "metadata": {
        "colab": {
          "base_uri": "https://localhost:8080/"
        },
        "id": "AR2srpdsHUX3",
        "outputId": "91001c4f-a12a-42c9-eaef-fc68c1fedd7d"
      },
      "source": [
        "import tensorflow\n",
        "import keras\n",
        "\n",
        "X = aba_df.drop(['bin_rings','rings'], axis=1)\n",
        "y = aba_df['bin_rings']\n",
        "print(\"X Shape\", X.shape)\n",
        "print(\"x Shape\", y.shape)\n",
        "X_train,X_test,y_train,y_test=train_test_split(X,y,test_size=0.25,random_state=42)\n",
        "\n",
        "# Standardization:\n",
        "sc=StandardScaler()\n",
        "sc.fit_transform(X_train)\n",
        "\n",
        "# Initialize Sequential model\n",
        "model = tensorflow.keras.models.Sequential()\n",
        "# Normalize input data\n",
        "model.add(tensorflow.keras.layers.BatchNormalization(input_shape=(8,)))\n",
        "model.add(tensorflow.keras.layers.Dense(3,activation='softmax'))\n",
        "model.compile(optimizer=keras.optimizers.Adam(),\n",
        "              loss=keras.losses.SparseCategoricalCrossentropy(from_logits=True), # default from_logits=False\n",
        "              metrics=[keras.metrics.SparseCategoricalAccuracy()])\n",
        "model.fit(X_train,y_train,batch_size=10,verbose=0)\n",
        "y_pred = model.predict(X_test)\n",
        "y_pred1 = []\n",
        "for y in y_pred:\n",
        "    y_pred1.append(np.argmax(y))\n",
        "#confusion_matrix(y_test,y_pred1)\n",
        "print(classification_report(y_test,y_pred1))"
      ],
      "execution_count": 37,
      "outputs": [
        {
          "output_type": "stream",
          "text": [
            "X Shape (4027, 8)\n",
            "x Shape (4027,)\n"
          ],
          "name": "stdout"
        },
        {
          "output_type": "stream",
          "text": [
            "/usr/local/lib/python3.7/dist-packages/keras/backend.py:4895: UserWarning: \"`sparse_categorical_crossentropy` received `from_logits=True`, but the `output` argument was produced by a sigmoid or softmax activation and thus does not represent logits. Was this intended?\"\n",
            "  '\"`sparse_categorical_crossentropy` received `from_logits=True`, but '\n"
          ],
          "name": "stderr"
        },
        {
          "output_type": "stream",
          "text": [
            "              precision    recall  f1-score   support\n",
            "\n",
            "           0       0.68      0.16      0.26       315\n",
            "           1       0.66      0.97      0.79       642\n",
            "           2       0.00      0.00      0.00        50\n",
            "\n",
            "    accuracy                           0.67      1007\n",
            "   macro avg       0.45      0.37      0.35      1007\n",
            "weighted avg       0.64      0.67      0.58      1007\n",
            "\n"
          ],
          "name": "stdout"
        },
        {
          "output_type": "stream",
          "text": [
            "/usr/local/lib/python3.7/dist-packages/sklearn/metrics/_classification.py:1272: UndefinedMetricWarning: Precision and F-score are ill-defined and being set to 0.0 in labels with no predicted samples. Use `zero_division` parameter to control this behavior.\n",
            "  _warn_prf(average, modifier, msg_start, len(result))\n"
          ],
          "name": "stderr"
        }
      ]
    },
    {
      "cell_type": "markdown",
      "metadata": {
        "id": "hii_AlQ8KMIO"
      },
      "source": [
        "Truncated SVD:"
      ]
    },
    {
      "cell_type": "code",
      "metadata": {
        "id": "PvOJ1G3KIWa8",
        "colab": {
          "base_uri": "https://localhost:8080/"
        },
        "outputId": "02137376-52db-4f76-f611-5e226640dd7a"
      },
      "source": [
        "from sklearn.decomposition import TruncatedSVD\n",
        "\n",
        "\n",
        "X = aba_df.drop(['bin_rings','rings'], axis=1)\n",
        "y = aba_df['bin_rings']\n",
        "print(\"X Shape\", X.shape)\n",
        "print(\"x Shape\", y.shape)\n",
        "X_train,X_test,y_train,y_test=train_test_split(X,y,test_size=0.25,random_state=42)\n",
        "\n",
        "# Standardization:\n",
        "sc=StandardScaler()\n",
        "sc.fit_transform(X_train)\n",
        "\n",
        "svd = TruncatedSVD(n_components=3)\n",
        "X_train_svd=svd.fit_transform(X_train)\n",
        "X_test_svd=svd.fit_transform(X_test)\n",
        "\n",
        "\n",
        "# Initialize Sequential model\n",
        "model = tensorflow.keras.models.Sequential()\n",
        "# Normalize input data\n",
        "model.add(tensorflow.keras.layers.BatchNormalization(input_shape=(3,)))\n",
        "model.add(tensorflow.keras.layers.Dense(3,activation='softmax'))\n",
        "model.compile(optimizer=keras.optimizers.Adam(),\n",
        "              loss=keras.losses.SparseCategoricalCrossentropy(from_logits=True), # default from_logits=False\n",
        "              metrics=[keras.metrics.SparseCategoricalAccuracy()])\n",
        "model.fit(X_train_svd,y_train,batch_size=10,verbose=0)\n",
        "y_pred = model.predict(X_test_svd)\n",
        "y_pred1 = []\n",
        "for y in y_pred:\n",
        "    y_pred1.append(np.argmax(y))\n",
        "#confusion_matrix(y_test,y_pred1)\n",
        "print(classification_report(y_test,y_pred1))"
      ],
      "execution_count": 60,
      "outputs": [
        {
          "output_type": "stream",
          "text": [
            "X Shape (4027, 8)\n",
            "x Shape (4027,)\n"
          ],
          "name": "stdout"
        },
        {
          "output_type": "stream",
          "text": [
            "/usr/local/lib/python3.7/dist-packages/keras/backend.py:4895: UserWarning: \"`sparse_categorical_crossentropy` received `from_logits=True`, but the `output` argument was produced by a sigmoid or softmax activation and thus does not represent logits. Was this intended?\"\n",
            "  '\"`sparse_categorical_crossentropy` received `from_logits=True`, but '\n"
          ],
          "name": "stderr"
        },
        {
          "output_type": "stream",
          "text": [
            "              precision    recall  f1-score   support\n",
            "\n",
            "           0       0.64      0.77      0.70       315\n",
            "           1       0.81      0.79      0.80       642\n",
            "           2       0.00      0.00      0.00        50\n",
            "\n",
            "    accuracy                           0.74      1007\n",
            "   macro avg       0.48      0.52      0.50      1007\n",
            "weighted avg       0.72      0.74      0.73      1007\n",
            "\n"
          ],
          "name": "stdout"
        },
        {
          "output_type": "stream",
          "text": [
            "/usr/local/lib/python3.7/dist-packages/sklearn/metrics/_classification.py:1272: UndefinedMetricWarning: Precision and F-score are ill-defined and being set to 0.0 in labels with no predicted samples. Use `zero_division` parameter to control this behavior.\n",
            "  _warn_prf(average, modifier, msg_start, len(result))\n"
          ],
          "name": "stderr"
        }
      ]
    },
    {
      "cell_type": "markdown",
      "metadata": {
        "id": "4vLWhVtnglOc"
      },
      "source": [
        "### PCA"
      ]
    },
    {
      "cell_type": "code",
      "metadata": {
        "colab": {
          "base_uri": "https://localhost:8080/"
        },
        "id": "T8UGD3cXDnpx",
        "outputId": "7b912a92-8f5b-4c33-d40f-965d5eb38e98"
      },
      "source": [
        "from sklearn.decomposition import PCA\n",
        "\n",
        "X = aba_df.drop(['bin_rings','rings'], axis=1)\n",
        "y = aba_df['bin_rings']\n",
        "print(\"X Shape\", X.shape)\n",
        "print(\"y Shape\", y.shape)\n",
        "X_train,X_test,y_train,y_test=train_test_split(X,y,test_size=0.25,random_state=42)\n",
        "\n",
        "# Standardization:\n",
        "sc=StandardScaler()\n",
        "sc.fit_transform(X_train)\n",
        "\n",
        "pca = PCA(n_components=4)\n",
        "X_train_pca=pca.fit_transform(X_train)\n",
        "X_test_pca=pca.fit_transform(X_test)\n",
        "\n",
        "# Initialize Sequential model\n",
        "model = tensorflow.keras.models.Sequential()\n",
        "# Normalize input data\n",
        "model.add(tensorflow.keras.layers.BatchNormalization(input_shape=(4,)))\n",
        "model.add(tensorflow.keras.layers.Dense(3,activation='softmax'))\n",
        "model.compile(optimizer=keras.optimizers.Adam(),\n",
        "              loss=keras.losses.SparseCategoricalCrossentropy(from_logits=True), # default from_logits=False\n",
        "              metrics=[keras.metrics.SparseCategoricalAccuracy()])\n",
        "model.fit(X_train_pca,y_train,batch_size=10,verbose=0)\n",
        "y_pred = model.predict(X_test_pca)\n",
        "y_pred1 = []\n",
        "for y in y_pred:\n",
        "    y_pred1.append(np.argmax(y))\n",
        "#confusion_matrix(y_test,y_pred1)\n",
        "print(classification_report(y_test,y_pred1))"
      ],
      "execution_count": 63,
      "outputs": [
        {
          "output_type": "stream",
          "text": [
            "X Shape (4027, 8)\n",
            "y Shape (4027,)\n"
          ],
          "name": "stdout"
        },
        {
          "output_type": "stream",
          "text": [
            "/usr/local/lib/python3.7/dist-packages/keras/backend.py:4895: UserWarning: \"`sparse_categorical_crossentropy` received `from_logits=True`, but the `output` argument was produced by a sigmoid or softmax activation and thus does not represent logits. Was this intended?\"\n",
            "  '\"`sparse_categorical_crossentropy` received `from_logits=True`, but '\n"
          ],
          "name": "stderr"
        },
        {
          "output_type": "stream",
          "text": [
            "              precision    recall  f1-score   support\n",
            "\n",
            "           0       0.66      0.73      0.70       315\n",
            "           1       0.80      0.82      0.81       642\n",
            "           2       0.00      0.00      0.00        50\n",
            "\n",
            "    accuracy                           0.75      1007\n",
            "   macro avg       0.49      0.52      0.50      1007\n",
            "weighted avg       0.72      0.75      0.74      1007\n",
            "\n"
          ],
          "name": "stdout"
        },
        {
          "output_type": "stream",
          "text": [
            "/usr/local/lib/python3.7/dist-packages/sklearn/metrics/_classification.py:1272: UndefinedMetricWarning: Precision and F-score are ill-defined and being set to 0.0 in labels with no predicted samples. Use `zero_division` parameter to control this behavior.\n",
            "  _warn_prf(average, modifier, msg_start, len(result))\n"
          ],
          "name": "stderr"
        }
      ]
    },
    {
      "cell_type": "markdown",
      "metadata": {
        "id": "yTC2AZj6U3Hh"
      },
      "source": [
        "Linear Discriminant Analysis:"
      ]
    },
    {
      "cell_type": "code",
      "metadata": {
        "colab": {
          "base_uri": "https://localhost:8080/"
        },
        "id": "W4gg7q-dKoBf",
        "outputId": "b9ca0704-a46b-463f-e655-3b842381d119"
      },
      "source": [
        "from sklearn.discriminant_analysis import LinearDiscriminantAnalysis as LDA\n",
        "\n",
        "X = aba_df.drop(['bin_rings','rings'], axis=1)\n",
        "y = aba_df['bin_rings']\n",
        "print(\"X Shape\", X.shape)\n",
        "print(\"y Shape\", y.shape)\n",
        "\n",
        "# Standardization:\n",
        "sc=StandardScaler()\n",
        "sc.fit_transform(X)\n",
        "\n",
        "#applying LDA:\n",
        "lda = LDA()\n",
        "X_lda = lda.fit_transform(X,y)\n",
        "\n",
        "X_train,X_test,y_train,y_test=train_test_split(X_lda,y,test_size=0.25,random_state=42)\n",
        "\n",
        "# Initialize Sequential model\n",
        "model = tensorflow.keras.models.Sequential()\n",
        "# Normalize input data\n",
        "model.add(tensorflow.keras.layers.BatchNormalization(input_shape=(2,)))\n",
        "model.add(tensorflow.keras.layers.Dense(3,activation='softmax'))\n",
        "model.compile(optimizer=keras.optimizers.Adam(),\n",
        "              loss=keras.losses.SparseCategoricalCrossentropy(from_logits=True), # default from_logits=False\n",
        "              metrics=[keras.metrics.SparseCategoricalAccuracy()])\n",
        "model.fit(X_train,y_train,batch_size=10,verbose=0)\n",
        "y_pred = model.predict(X_test)\n",
        "y_pred1 = []\n",
        "for y in y_pred:\n",
        "    y_pred1.append(np.argmax(y))\n",
        "#confusion_matrix(y_test,y_pred1)\n",
        "print(classification_report(y_test,y_pred1))\n"
      ],
      "execution_count": 115,
      "outputs": [
        {
          "output_type": "stream",
          "text": [
            "X Shape (4027, 8)\n",
            "y Shape (4027,)\n",
            "X Shape (4027, 8)\n",
            "y Shape (4027,)\n"
          ],
          "name": "stdout"
        },
        {
          "output_type": "stream",
          "text": [
            "/usr/local/lib/python3.7/dist-packages/keras/backend.py:4895: UserWarning: \"`sparse_categorical_crossentropy` received `from_logits=True`, but the `output` argument was produced by a sigmoid or softmax activation and thus does not represent logits. Was this intended?\"\n",
            "  '\"`sparse_categorical_crossentropy` received `from_logits=True`, but '\n"
          ],
          "name": "stderr"
        },
        {
          "output_type": "stream",
          "text": [
            "              precision    recall  f1-score   support\n",
            "\n",
            "           0       0.65      0.77      0.70       315\n",
            "           1       0.81      0.80      0.80       642\n",
            "           2       0.00      0.00      0.00        50\n",
            "\n",
            "    accuracy                           0.75      1007\n",
            "   macro avg       0.48      0.52      0.50      1007\n",
            "weighted avg       0.72      0.75      0.73      1007\n",
            "\n"
          ],
          "name": "stdout"
        },
        {
          "output_type": "stream",
          "text": [
            "/usr/local/lib/python3.7/dist-packages/sklearn/metrics/_classification.py:1272: UndefinedMetricWarning: Precision and F-score are ill-defined and being set to 0.0 in labels with no predicted samples. Use `zero_division` parameter to control this behavior.\n",
            "  _warn_prf(average, modifier, msg_start, len(result))\n"
          ],
          "name": "stderr"
        }
      ]
    },
    {
      "cell_type": "markdown",
      "metadata": {
        "id": "g1hB89O8aeA9"
      },
      "source": [
        "2. Write a function that will indicate if an inputted IPv4 address is accurate or not.\n",
        "IP addresses are valid if they have 4 values between 0 and 255 (inclusive), punctuated\n",
        "by periods.\n",
        "Input 1:\n",
        "2.33.245.5\n",
        "Output 1:\n",
        "True\n",
        "Input 2: \n",
        "12.345.67.89\n",
        "Output 2:\n",
        "False"
      ]
    },
    {
      "cell_type": "code",
      "metadata": {
        "id": "Iwa5Wf27aeuB"
      },
      "source": [
        "def func():\n",
        "  ip=input(\"Enter IPV4: \")\n",
        "  ip=str(ip)\n",
        "  sum=0\n",
        "  if '.' in ip:\n",
        "    x=ip.split(\".\")\n",
        "    print(x)\n",
        "    for i in x:\n",
        "      if int(i) < 256:\n",
        "        sum=sum+1\n",
        "    if sum == 4:\n",
        "        print (\"Valid IPV4\")\n",
        "    else:\n",
        "        print (\"Not a valid IPV4\")\n",
        "\n",
        "  else:\n",
        "    print(\"Invalid Format\")"
      ],
      "execution_count": 116,
      "outputs": []
    },
    {
      "cell_type": "code",
      "metadata": {
        "colab": {
          "base_uri": "https://localhost:8080/"
        },
        "id": "UuWpu4ffahii",
        "outputId": "704f1651-b0aa-4857-89b5-429565e25fbc"
      },
      "source": [
        "func()"
      ],
      "execution_count": 117,
      "outputs": [
        {
          "output_type": "stream",
          "text": [
            "Enter IPV4: 2.33.245.5\n",
            "['2', '33', '245', '5']\n",
            "Valid IPV4\n"
          ],
          "name": "stdout"
        }
      ]
    },
    {
      "cell_type": "code",
      "metadata": {
        "colab": {
          "base_uri": "https://localhost:8080/"
        },
        "id": "sz4npOt6ak5y",
        "outputId": "c4da2e8c-c809-4b6f-b0a6-c483a7cea9e6"
      },
      "source": [
        "func()"
      ],
      "execution_count": 118,
      "outputs": [
        {
          "output_type": "stream",
          "text": [
            "Enter IPV4: 12.345.67.89\n",
            "['12', '345', '67', '89']\n",
            "Not a valid IPV4\n"
          ],
          "name": "stdout"
        }
      ]
    },
    {
      "cell_type": "code",
      "metadata": {
        "id": "vkrZdmlEamFq"
      },
      "source": [
        ""
      ],
      "execution_count": null,
      "outputs": []
    }
  ]
}