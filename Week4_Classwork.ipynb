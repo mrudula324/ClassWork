{
 "cells": [
  {
   "cell_type": "code",
   "execution_count": null,
   "metadata": {
    "collapsed": true
   },
   "outputs": [],
   "source": [
    "1) Take the following list and create a new list from the square of each value.\n",
    "og_list=[2, 4, 6, 8, 10, 12, 14]\n",
    "2) Take the same list from the previous question and create a new list but where each\n",
    "value is 2/3\n",
    "3) Write a list comprehension to lowercase all the keys in the below dictionary. The data\n",
    "represents how many pounds of each fruit a canning company is ordering.\n",
    "Why might you use a list comprehension to do something like this?\n",
    "dict={\"Apples\": 1500, \"Cranberries\": 2000, \"Pears\": 2500, \"Cherries\": 1600, \"Plums\": 2400,\n",
    "\"Peaches\": 13600, \"Oranges\": 7}"
   ]
  },
  {
   "cell_type": "code",
   "execution_count": 2,
   "metadata": {
    "collapsed": true
   },
   "outputs": [],
   "source": [
    "og_list = [2,4,6,8,10,12,14]"
   ]
  },
  {
   "cell_type": "code",
   "execution_count": 3,
   "metadata": {
    "collapsed": false
   },
   "outputs": [
    {
     "name": "stdout",
     "output_type": "stream",
     "text": [
      "[4, 16, 36, 64, 100, 144, 196]\n"
     ]
    }
   ],
   "source": [
    "new_list = [i**2 for i in og_list]\n",
    "print(new_list)"
   ]
  },
  {
   "cell_type": "code",
   "execution_count": 6,
   "metadata": {
    "collapsed": false
   },
   "outputs": [
    {
     "name": "stdout",
     "output_type": "stream",
     "text": [
      "[0.6666666666666666, 0.6666666666666666, 0.6666666666666666, 0.6666666666666666, 0.6666666666666666, 0.6666666666666666, 0.6666666666666666]\n"
     ]
    }
   ],
   "source": [
    "#case1 if all the list elements equal to 2/3\n",
    "new_list1 = [2/3 for i in og_list]\n",
    "print(new_list1)"
   ]
  },
  {
   "cell_type": "code",
   "execution_count": 7,
   "metadata": {
    "collapsed": false
   },
   "outputs": [
    {
     "name": "stdout",
     "output_type": "stream",
     "text": [
      "[1.3333333333333333, 2.6666666666666665, 4.0, 5.333333333333333, 6.666666666666666, 8.0, 9.333333333333332]\n"
     ]
    }
   ],
   "source": [
    "#case2 if all the elements in the list multiplied by 2/3\n",
    "new_list = [(2/3)*i for i in og_list]\n",
    "print(new_list)"
   ]
  },
  {
   "cell_type": "code",
   "execution_count": 9,
   "metadata": {
    "collapsed": false
   },
   "outputs": [
    {
     "data": {
      "text/plain": [
       "{'Apples': 1500,\n",
       " 'Cherries': 1600,\n",
       " 'Cranberries': 2000,\n",
       " 'Oranges': 7,\n",
       " 'Peaches': 13600,\n",
       " 'Pears': 2500,\n",
       " 'Plums': 2400}"
      ]
     },
     "execution_count": 9,
     "metadata": {},
     "output_type": "execute_result"
    }
   ],
   "source": [
    "fruit_dict = {\"Apples\":1500,\"Cranberries\":2000,\"Pears\": 2500,\"Cherries\":1600, \"Plums\":2400,\"Peaches\":13600,\"Oranges\":7}\n",
    "fruit_dict"
   ]
  },
  {
   "cell_type": "code",
   "execution_count": 49,
   "metadata": {
    "collapsed": false
   },
   "outputs": [
    {
     "name": "stdout",
     "output_type": "stream",
     "text": [
      "{'pears': 2500, 'peaches': 13600, 'oranges': 7, 'apples': 1500, 'cranberries': 2000, 'cherries': 1600, 'plums': 2400}\n"
     ]
    }
   ],
   "source": [
    "new_dict = dict((key.lower(),value) for key, value in fruit_dict.items())\n",
    "print(new_dict)"
   ]
  },
  {
   "cell_type": "code",
   "execution_count": 27,
   "metadata": {
    "collapsed": false
   },
   "outputs": [
    {
     "data": {
      "text/plain": [
       "{'apples': 1500,\n",
       " 'cherries': 1600,\n",
       " 'cranberries': 2000,\n",
       " 'oranges': 7,\n",
       " 'peaches': 13600,\n",
       " 'pears': 2500,\n",
       " 'plums': 2400}"
      ]
     },
     "execution_count": 27,
     "metadata": {},
     "output_type": "execute_result"
    }
   ],
   "source": [
    "new_dict={k.lower():value for k,value in fruit_dict.items()}\n",
    "new_dict\n",
    "#we can implement dictionary comphresion by using flower braces \"{}\" and seperating key value pairs using \":\"."
   ]
  },
  {
   "cell_type": "code",
   "execution_count": 34,
   "metadata": {
    "collapsed": true
   },
   "outputs": [],
   "source": [
    "#List comphresions are faster and much more readable when compared to for loops. List comphresions returns a list,\n",
    "#where as for loops returns individual values.\n",
    "#List comphresions can be used as we are deals with smaller data. If we have stream of data they are not advisable."
   ]
  }
 ],
 "metadata": {
  "anaconda-cloud": {},
  "kernelspec": {
   "display_name": "Python [default]",
   "language": "python",
   "name": "python3"
  },
  "language_info": {
   "codemirror_mode": {
    "name": "ipython",
    "version": 3
   },
   "file_extension": ".py",
   "mimetype": "text/x-python",
   "name": "python",
   "nbconvert_exporter": "python",
   "pygments_lexer": "ipython3",
   "version": "3.5.2"
  }
 },
 "nbformat": 4,
 "nbformat_minor": 2
}
